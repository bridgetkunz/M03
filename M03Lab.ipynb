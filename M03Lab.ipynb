{
 "cells": [
  {
   "cell_type": "code",
   "execution_count": 3,
   "id": "bb23d5c9",
   "metadata": {},
   "outputs": [
    {
     "name": "stdout",
     "output_type": "stream",
     "text": [
      "Type of vehicle :car\n",
      "Enter the year :2018\n",
      "Enter the manufacturer :Nissan\n",
      "Enter the model :Juke\n",
      "Enter the number of doors(2 or 4) :4\n",
      "solid or sun roof :solid\n",
      "\n",
      "Vehicle Type :car\n",
      "\n",
      "Year :2018\n",
      "\n",
      "Make :Nissan\n",
      "\n",
      "Model :Juke\n",
      "\n",
      "No of doors :4\n",
      "\n",
      "Type of roof :solid\n"
     ]
    }
   ],
   "source": [
    "#vehicle class with custructor\n",
    "class Vehicle:\n",
    "\tdef __init__(self,type):   #constructor for type\n",
    "\t\tself.type=type \n",
    "\n",
    "#subclass Automobile from vehicle\n",
    "class Automobile(Vehicle):\n",
    "\tdef __init__(self,type,year,make,model,doors,roof):\n",
    "\t\tsuper().__init__(type) #super function is called to invoke vehicle class constructor\n",
    "\t\tself.year=year\n",
    "\t\tself.make=make\n",
    "\t\tself.model=model\n",
    "\t\tself.doors=doors\n",
    "\t\tself.roof=roof\n",
    "\n",
    "type_i=input(\"Type of vehicle :\")\n",
    "year_i=input(\"Enter the year :\")\n",
    "make_i=input(\"Enter the manufacturer :\")\n",
    "model_i=input(\"Enter the model :\")\n",
    "doors_i=input(\"Enter the number of doors(2 or 4) :\")\n",
    "roof_i=input(\"solid or sun roof :\")\n",
    "A=Automobile(type_i,year_i,make_i,model_i,doors_i,roof_i) #calling the constructor with alls values readed\n",
    "\n",
    "#print the deatils\n",
    "print(\"\\nVehicle Type :\"+A.type)\n",
    "print(\"\\nYear :\"+A.year)\n",
    "print(\"\\nMake :\"+A.make)\n",
    "print(\"\\nModel :\"+A.model)\n",
    "print(\"\\nNo of doors :\"+A.doors)\n",
    "print(\"\\nType of roof :\"+A.roof)\n"
   ]
  },
  {
   "cell_type": "code",
   "execution_count": null,
   "id": "68a97758",
   "metadata": {},
   "outputs": [],
   "source": []
  }
 ],
 "metadata": {
  "kernelspec": {
   "display_name": "Python 3 (ipykernel)",
   "language": "python",
   "name": "python3"
  },
  "language_info": {
   "codemirror_mode": {
    "name": "ipython",
    "version": 3
   },
   "file_extension": ".py",
   "mimetype": "text/x-python",
   "name": "python",
   "nbconvert_exporter": "python",
   "pygments_lexer": "ipython3",
   "version": "3.11.4"
  }
 },
 "nbformat": 4,
 "nbformat_minor": 5
}
